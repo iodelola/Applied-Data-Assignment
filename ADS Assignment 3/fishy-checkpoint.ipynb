{
 "cells": [
  {
   "cell_type": "markdown",
   "id": "bf9c89f4",
   "metadata": {},
   "source": [
    "Define functions to do the normalisation"
   ]
  },
  {
   "cell_type": "code",
   "execution_count": 1,
   "id": "413cf90f",
   "metadata": {},
   "outputs": [],
   "source": [
    "#!/usr/bin/env python3\n",
    "# -*- coding: utf-8 -*-\n",
    "\"\"\"\n",
    "Created on Tue Dec 14 09:54:28 2021\n",
    "\n",
    "Clustering exercise using fish measurements\n",
    "\n",
    "@author: napi\n",
    "\"\"\"\n",
    "\n",
    "import pandas as pd\n",
    "import numpy as np\n",
    "import sklearn.cluster as cluster\n",
    "\n",
    "import matplotlib.pyplot as plt\n",
    "%matplotlib inline\n",
    "\n",
    "def norm(array):\n",
    "    \"\"\" Returns array normalised to [0,1] \"\"\"\n",
    "\n",
    "    min_val = np.min(array)\n",
    "    max_val = np.max(array)\n",
    "    \n",
    "    scaled = (array - min_val) / (max_val - min_val)\n",
    "    \n",
    "    return scaled\n",
    "\n",
    "\n",
    "def norm_df(df):\n",
    "    \"\"\" \n",
    "    Returns all columns of the dataframe normalised to [0,1] with the \n",
    "    exception the first (containing the names)\n",
    "    Calls function norm to do the normalisation of one column, but\n",
    "    doing all in one function is also fine. \n",
    "    \"\"\"\n",
    "    \n",
    "    # iterate over all columns\n",
    "    for col in df.columns[1:]:     # excluding the first column\n",
    "        df[col] = norm(df[col])\n",
    "        \n",
    "    return df"
   ]
  },
  {
   "cell_type": "markdown",
   "id": "794551ec",
   "metadata": {},
   "source": [
    "Read in and normalise"
   ]
  },
  {
   "cell_type": "code",
   "execution_count": 2,
   "id": "c9cf6411",
   "metadata": {},
   "outputs": [
    {
     "name": "stdout",
     "output_type": "stream",
     "text": [
      "            weight lower jaw fork length fork length total length     height  \\\n",
      "                 g                    cm          cm           cm         cm   \n",
      "count    85.000000             85.000000   85.000000    85.000000  85.000000   \n",
      "mean    432.994118             27.338824   29.557647    33.120000  28.076471   \n",
      "std     379.685386             11.289450   12.185045    13.197292  10.351543   \n",
      "min       6.700000              9.300000    9.800000    10.800000  14.500000   \n",
      "25%     120.000000             19.400000   21.000000    23.700000  16.900000   \n",
      "50%     390.000000             28.400000   30.700000    35.000000  27.100000   \n",
      "75%     650.000000             32.700000   36.000000    40.600000  39.200000   \n",
      "max    1650.000000             59.000000   63.400000    68.000000  44.500000   \n",
      "\n",
      "           width  \n",
      "              cm  \n",
      "count  85.000000  \n",
      "mean   12.865882  \n",
      "std     2.117476  \n",
      "min     8.700000  \n",
      "25%    11.000000  \n",
      "50%    13.700000  \n",
      "75%    14.700000  \n",
      "max    16.100000  \n",
      "                            weight lower jaw fork length fork length  \\\n",
      "                                 g                    cm          cm   \n",
      "weight                g   1.000000              0.897988    0.904485   \n",
      "lower jaw fork length cm  0.897988              1.000000    0.999502   \n",
      "fork length           cm  0.904485              0.999502    1.000000   \n",
      "total length          cm  0.917904              0.992451    0.995336   \n",
      "height                cm  0.290635              0.083564    0.109940   \n",
      "width                 cm  0.079231             -0.042528   -0.020755   \n",
      "\n",
      "                         total length    height     width  \n",
      "                                   cm        cm        cm  \n",
      "weight                g      0.917904  0.290635  0.079231  \n",
      "lower jaw fork length cm     0.992451  0.083564 -0.042528  \n",
      "fork length           cm     0.995336  0.109940 -0.020755  \n",
      "total length          cm     1.000000  0.200880  0.046017  \n",
      "height                cm     0.200880  1.000000  0.770865  \n",
      "width                 cm     0.046017  0.770865  1.000000  \n",
      "\n",
      "          weight lower jaw fork length fork length total length     height  \\\n",
      "               g                    cm          cm           cm         cm   \n",
      "count  85.000000             85.000000   85.000000    85.000000  85.000000   \n",
      "mean    0.259413              0.362954    0.368613     0.390210   0.452549   \n",
      "std     0.231051              0.227152    0.227333     0.230722   0.345051   \n",
      "min     0.000000              0.000000    0.000000     0.000000   0.000000   \n",
      "25%     0.068947              0.203219    0.208955     0.225524   0.080000   \n",
      "50%     0.233250              0.384306    0.389925     0.423077   0.420000   \n",
      "75%     0.391468              0.470825    0.488806     0.520979   0.823333   \n",
      "max     1.000000              1.000000    1.000000     1.000000   1.000000   \n",
      "\n",
      "           width  \n",
      "              cm  \n",
      "count  85.000000  \n",
      "mean    0.562957  \n",
      "std     0.286145  \n",
      "min     0.000000  \n",
      "25%     0.310811  \n",
      "50%     0.675676  \n",
      "75%     0.810811  \n",
      "max     1.000000  \n",
      "\n"
     ]
    }
   ],
   "source": [
    "# reading the file and basic statistics\n",
    "df_fish = pd.read_csv(\"fish_measurements.csv\", header=[0,1])\n",
    "print(df_fish.describe())\n",
    "print(df_fish.corr())\n",
    "print()\n",
    "\n",
    "# normalise result and inspect results\n",
    "df_fish = norm_df(df_fish)\n",
    "print(df_fish.describe())\n",
    "print()\n"
   ]
  },
  {
   "cell_type": "markdown",
   "id": "d222cf55",
   "metadata": {},
   "source": [
    "Plot a few combinations of attributes (using a function)"
   ]
  },
  {
   "cell_type": "code",
   "execution_count": 3,
   "id": "c7e03325",
   "metadata": {},
   "outputs": [
    {
     "data": {
      "image/png": "[encoded data removed]",
      "text/plain": [
       "<Figure size 360x360 with 1 Axes>"
      ]
     },
     "metadata": {
      "needs_background": "light"
     },
     "output_type": "display_data"
    },
    {
     "data": {
      "image/png": "[encoded data removed]",
      "text/plain": [
       "<Figure size 360x360 with 1 Axes>"
      ]
     },
     "metadata": {
      "needs_background": "light"
     },
     "output_type": "display_data"
    },
    {
     "data": {
      "image/png": "[encoded data removed]",
      "text/plain": [
       "<Figure size 360x360 with 1 Axes>"
      ]
     },
     "metadata": {
      "needs_background": "light"
     },
     "output_type": "display_data"
    }
   ],
   "source": [
    "def makeplot(df, col1, col2):\n",
    "    \"\"\"\n",
    "    Produces a square plot of two columns of dataframe df using small circle \n",
    "    symbols.\n",
    "    \"\"\"\n",
    "    \n",
    "    plt.figure(figsize=(5.0,5.0))\n",
    "    plt.plot(df[col1], df[col2], \"o\", markersize=3)\n",
    "    \n",
    "    plt.xlabel(col1)\n",
    "    plt.ylabel(col2)\n",
    "    plt.show()\n",
    "    \n",
    "    \n",
    "# exploratory plots\n",
    "makeplot(df_fish, \"total length\", \"weight\")\n",
    "makeplot(df_fish, \"total length\", \"height\")\n",
    "makeplot(df_fish, \"width\", \"height\")"
   ]
  },
  {
   "cell_type": "markdown",
   "id": "89d282d6",
   "metadata": {},
   "source": [
    "Total length vs. weight splits data neatly into four clusters, going for that.\n",
    "\n",
    "Setting up and executing kmeans clustering"
   ]
  },
  {
   "cell_type": "code",
   "execution_count": 4,
   "id": "e52d0593",
   "metadata": {},
   "outputs": [
    {
     "data": {
      "image/png": "[encoded data removed]",
      "text/plain": [
       "<Figure size 360x360 with 1 Axes>"
      ]
     },
     "metadata": {
      "needs_background": "light"
     },
     "output_type": "display_data"
    }
   ],
   "source": [
    "####### kmeans set up the clusterer, 4 expected clusters\n",
    "kmeans = cluster.KMeans(n_clusters=4)\n",
    "\n",
    "# extract columns for fitting\n",
    "df_fit = df_fish[[\"total length\", \"height\"]].copy()\n",
    "kmeans.fit(df_fit)     \n",
    "\n",
    "# extract labels and cluster centres\n",
    "labels = kmeans.labels_\n",
    "cen = kmeans.cluster_centers_\n",
    "\n",
    "# plot using the labels to select colour\n",
    "plt.figure(figsize=(5.0,5.0))\n",
    "\n",
    "col = [\"blue\", \"red\", \"green\", \"magenta\"]\n",
    "for l in range(4):     # loop over the different labels\n",
    "    plt.plot(df_fit[\"total length\"][labels==l], df_fit[\"height\"][labels==l], \"o\", markersize=3, color=col[l])\n",
    "    \n",
    "# show cluster centres\n",
    "for ic in range(4):\n",
    "    xc, yc = cen[ic,:]\n",
    "    plt.plot(xc, yc, \"dk\", markersize=10)\n",
    "    \n",
    "plt.xlabel(\"total length\")\n",
    "plt.ylabel(\"height\")\n",
    "plt.show()"
   ]
  },
  {
   "cell_type": "markdown",
   "id": "b6d18a71",
   "metadata": {},
   "source": [
    "Agglomorative clustering"
   ]
  },
  {
   "cell_type": "code",
   "execution_count": 5,
   "id": "360c2cb1",
   "metadata": {},
   "outputs": [
    {
     "data": {
      "image/png": "[encoded data removed]",
      "text/plain": [
       "<Figure size 360x360 with 1 Axes>"
      ]
     },
     "metadata": {
      "needs_background": "light"
     },
     "output_type": "display_data"
    }
   ],
   "source": [
    "##### setting up agglomerative clustering for 4 clusters\n",
    "ac = cluster.AgglomerativeClustering(n_clusters=4)\n",
    "\n",
    "# carry out the fitting\n",
    "ac.fit(df_fit)\n",
    "\n",
    "labels = ac.labels_\n",
    "\n",
    "# The clusterer does not return cluster centres, but they are easily computed\n",
    "xcen = []\n",
    "ycen = []\n",
    "for ic in range(4):\n",
    "    xc = np.average(df_fit[\"total length\"][labels==ic])\n",
    "    yc = np.average(df_fit[\"height\"][labels==ic])\n",
    "    xcen.append(xc)\n",
    "    ycen.append(yc)\n",
    "\n",
    "# plot using the labels to select colour\n",
    "plt.figure(figsize=(5.0,5.0))\n",
    "\n",
    "col = [\"blue\", \"red\", \"green\", \"magenta\"]\n",
    "for l in range(0,4):     # loop over the different labels\n",
    "    plt.plot(df_fit[\"total length\"][labels==l], df_fit[\"height\"][labels==l], \"o\", markersize=3, color=col[l])\n",
    "    \n",
    "# show cluster centres\n",
    "for ic in range(4):\n",
    "    plt.plot(xcen[ic], ycen[ic], \"dk\", markersize=10)\n",
    "    \n",
    "plt.xlabel(\"total length\")\n",
    "plt.ylabel(\"height\")\n",
    "plt.show()\n",
    "\n",
    "\n",
    "###### writing labels into df_fish, sorting and exporting as excel file\n",
    "df_fish[\"labels\"] = labels\n",
    "df_fish = df_fish.sort_values([\"labels\"], ignore_index=True)\n",
    "df_fish.to_excel(\"fish_clusters.xlsx\")"
   ]
  },
  {
   "cell_type": "code",
   "execution_count": null,
   "id": "abb93831",
   "metadata": {},
   "outputs": [],
   "source": []
  }
 ],
 "metadata": {
  "kernelspec": {
   "display_name": "Python 3",
   "language": "python",
   "name": "python3"
  },
  "language_info": {
   "codemirror_mode": {
    "name": "ipython",
    "version": 3
   },
   "file_extension": ".py",
   "mimetype": "text/x-python",
   "name": "python",
   "nbconvert_exporter": "python",
   "pygments_lexer": "ipython3",
   "version": "3.8.8"
  }
 },
 "nbformat": 4,
 "nbformat_minor": 5
}
