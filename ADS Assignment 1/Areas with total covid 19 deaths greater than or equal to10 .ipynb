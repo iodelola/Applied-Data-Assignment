{
 "cells": [
  {
   "cell_type": "code",
   "execution_count": 1,
   "id": "822449f5",
   "metadata": {},
   "outputs": [
    {
     "name": "stdout",
     "output_type": "stream",
     "text": [
      "Note: you may need to restart the kernel to use updated packages.\n"
     ]
    },
    {
     "name": "stderr",
     "output_type": "stream",
     "text": [
      "'C:\\Users\\lenovo\\anaconda3\\anaconda' is not recognized as an internal or external command,\n",
      "operable program or batch file.\n"
     ]
    }
   ],
   "source": [
    "pip install --upgrade pip"
   ]
  },
  {
   "cell_type": "code",
   "execution_count": 3,
   "id": "0d261bfa",
   "metadata": {},
   "outputs": [
    {
     "name": "stderr",
     "output_type": "stream",
     "text": [
      "'C:\\Users\\lenovo\\anaconda3\\anaconda' is not recognized as an internal or external command,\n",
      "operable program or batch file.\n",
      "'C:\\Users\\lenovo\\anaconda3\\anaconda' is not recognized as an internal or external command,\n",
      "operable program or batch file.\n"
     ]
    }
   ],
   "source": [
    "import sys\n",
    "!{sys.executable} -m pip install pandas\n",
    "!{sys.executable} -m pip install matplotlib"
   ]
  },
  {
   "cell_type": "code",
   "execution_count": 4,
   "id": "e67e3d45",
   "metadata": {},
   "outputs": [],
   "source": [
    "import pandas as pd\n",
    "import numpy as np\n",
    "import matplotlib.pyplot as plt\n",
    "import math"
   ]
  },
  {
   "cell_type": "code",
   "execution_count": 7,
   "id": "2f53bb6b",
   "metadata": {},
   "outputs": [
    {
     "name": "stdout",
     "output_type": "stream",
     "text": [
      "                  area_name       date cause_of_death  deaths\n",
      "0      Barking and Dagenham 2021-01-01       COVID 19       0\n",
      "1      Barking and Dagenham 2021-01-01   Non COVID 19       0\n",
      "2      Barking and Dagenham 2021-01-02       COVID 19       0\n",
      "3      Barking and Dagenham 2021-01-02   Non COVID 19       0\n",
      "4      Barking and Dagenham 2021-01-03       COVID 19       0\n",
      "...                     ...        ...            ...     ...\n",
      "92695                  York 2021-11-03   Non COVID 19       1\n",
      "92696                  York 2021-11-04       COVID 19       0\n",
      "92697                  York 2021-11-04   Non COVID 19       2\n",
      "92698                  York 2021-11-05       COVID 19       0\n",
      "92699                  York 2021-11-05   Non COVID 19       2\n",
      "\n",
      "[92700 rows x 4 columns]\n"
     ]
    }
   ],
   "source": [
    "covid = pd.read_csv ('ons_deaths_cqc_by_la.csv',parse_dates=['date'])\n",
    "print (covid)"
   ]
  },
  {
   "cell_type": "code",
   "execution_count": 8,
   "id": "9616b22e",
   "metadata": {},
   "outputs": [],
   "source": [
    "matplotlib inline"
   ]
  },
  {
   "cell_type": "code",
   "execution_count": 10,
   "id": "3211b4db",
   "metadata": {},
   "outputs": [],
   "source": [
    "def cm_to_inch(value):\n",
    "    return value/2.54"
   ]
  },
  {
   "cell_type": "code",
   "execution_count": 13,
   "id": "b544174d",
   "metadata": {},
   "outputs": [
    {
     "data": {
      "text/plain": [
       "area_name\n",
       "Bournemouth, Christchurch and Poole     6\n",
       "Buckinghamshire                         2\n",
       "Cumbria                                 1\n",
       "Devon                                   2\n",
       "East Sussex                            18\n",
       "Essex                                  19\n",
       "Hampshire                              16\n",
       "Hertfordshire                          13\n",
       "Kent                                   22\n",
       "Lancashire                              4\n",
       "Norfolk                                16\n",
       "Nottinghamshire                         2\n",
       "Somerset                                3\n",
       "South Gloucestershire                   1\n",
       "Staffordshire                           2\n",
       "Suffolk                                 3\n",
       "Surrey                                 16\n",
       "West Sussex                            12\n",
       "Wirral                                  1\n",
       "Wolverhampton                           1\n",
       "Worcestershire                          2\n",
       "dtype: int64"
      ]
     },
     "execution_count": 13,
     "metadata": {},
     "output_type": "execute_result"
    }
   ],
   "source": [
    "covid_area = covid.loc[(covid['cause_of_death'] == 'COVID 19') & (covid['deaths'] >= 10)]\n",
    "covid_area_group = covid_area.groupby('area_name')\n",
    "covid_area_group.size()"
   ]
  },
  {
   "cell_type": "code",
   "execution_count": 15,
   "id": "1ba6e9ad",
   "metadata": {},
   "outputs": [
    {
     "data": {
      "text/html": [
       "<div>\n",
       "<style scoped>\n",
       "    .dataframe tbody tr th:only-of-type {\n",
       "        vertical-align: middle;\n",
       "    }\n",
       "\n",
       "    .dataframe tbody tr th {\n",
       "        vertical-align: top;\n",
       "    }\n",
       "\n",
       "    .dataframe thead th {\n",
       "        text-align: right;\n",
       "    }\n",
       "</style>\n",
       "<table border=\"1\" class=\"dataframe\">\n",
       "  <thead>\n",
       "    <tr style=\"text-align: right;\">\n",
       "      <th></th>\n",
       "      <th>deaths</th>\n",
       "    </tr>\n",
       "    <tr>\n",
       "      <th>area_name</th>\n",
       "      <th></th>\n",
       "    </tr>\n",
       "  </thead>\n",
       "  <tbody>\n",
       "    <tr>\n",
       "      <th>Cumbria</th>\n",
       "      <td>11</td>\n",
       "    </tr>\n",
       "    <tr>\n",
       "      <th>South Gloucestershire</th>\n",
       "      <td>11</td>\n",
       "    </tr>\n",
       "    <tr>\n",
       "      <th>Wirral</th>\n",
       "      <td>12</td>\n",
       "    </tr>\n",
       "    <tr>\n",
       "      <th>Wolverhampton</th>\n",
       "      <td>12</td>\n",
       "    </tr>\n",
       "    <tr>\n",
       "      <th>Staffordshire</th>\n",
       "      <td>20</td>\n",
       "    </tr>\n",
       "  </tbody>\n",
       "</table>\n",
       "</div>"
      ],
      "text/plain": [
       "                       deaths\n",
       "area_name                    \n",
       "Cumbria                    11\n",
       "South Gloucestershire      11\n",
       "Wirral                     12\n",
       "Wolverhampton              12\n",
       "Staffordshire              20"
      ]
     },
     "execution_count": 15,
     "metadata": {},
     "output_type": "execute_result"
    }
   ],
   "source": [
    "covid_totals = covid_area_group.sum()\n",
    "covid_totals.sort_values(by='deaths').head()"
   ]
  },
  {
   "cell_type": "code",
   "execution_count": 17,
   "id": "192675e0",
   "metadata": {
    "scrolled": true
   },
   "outputs": [
    {
     "data": {
      "text/plain": [
       "Text(0, 0.5, 'Deaths')"
      ]
     },
     "execution_count": 17,
     "metadata": {},
     "output_type": "execute_result"
    },
    {
     "data": {
      "image/png": "[encoded data removed]",
      "text/plain": [
       "<Figure size 432x288 with 1 Axes>"
      ]
     },
     "metadata": {
      "needs_background": "light"
     },
     "output_type": "display_data"
    }
   ],
   "source": [
    "my_plot = covid_totals.sort_values(by='deaths',ascending=False).plot(kind='bar',legend=None,title=\"Total Covid Related Deaths by Area Name\")\n",
    "my_plot.set_xlabel(\"Area Names\")\n",
    "my_plot.set_ylabel(\"Deaths\")"
   ]
  },
  {
   "cell_type": "code",
   "execution_count": 24,
   "id": "88a666c4",
   "metadata": {},
   "outputs": [
    {
     "data": {
      "text/plain": [
       "<BarContainer object of 92700 artists>"
      ]
     },
     "execution_count": 24,
     "metadata": {},
     "output_type": "execute_result"
    },
    {
     "data": {
      "image/png": "[encoded data removed]",
      "text/plain": [
       "<Figure size 432x288 with 1 Axes>"
      ]
     },
     "metadata": {
      "needs_background": "light"
     },
     "output_type": "display_data"
    }
   ],
   "source": [
    "plt.barh(covid['cause_of_death'], covid['area_name'])\n",
    "plt.s"
   ]
  },
  {
   "cell_type": "code",
   "execution_count": null,
   "id": "7262d5e9",
   "metadata": {},
   "outputs": [],
   "source": []
  }
 ],
 "metadata": {
  "kernelspec": {
   "display_name": "Python 3",
   "language": "python",
   "name": "python3"
  },
  "language_info": {
   "codemirror_mode": {
    "name": "ipython",
    "version": 3
   },
   "file_extension": ".py",
   "mimetype": "text/x-python",
   "name": "python",
   "nbconvert_exporter": "python",
   "pygments_lexer": "ipython3",
   "version": "3.8.8"
  }
 },
 "nbformat": 4,
 "nbformat_minor": 5
}
